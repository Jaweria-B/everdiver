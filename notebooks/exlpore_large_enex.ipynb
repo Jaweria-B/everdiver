{
 "cells": [
  {
   "cell_type": "code",
   "execution_count": 27,
   "metadata": {},
   "outputs": [],
   "source": [
    "import os\n",
    "from bigxml import Parser, xml_handle_element, xml_handle_text\n",
    "from dataclasses import dataclass\n",
    "import pandas as pd\n",
    "import numpy as np\n",
    "from bs4 import BeautifulSoup\n",
    "import matplotlib.pyplot as plt"
   ]
  },
  {
   "cell_type": "code",
   "execution_count": 28,
   "metadata": {},
   "outputs": [],
   "source": [
    "@xml_handle_element(\"en-export\", \"note\")\n",
    "@dataclass\n",
    "class Note:\n",
    "    title: str = np.nan\n",
    "    created: str = np.nan\n",
    "    updated: str =np.nan\n",
    "    content: str = np.nan\n",
    "    tag: str = np.nan\n",
    "    attributes: str = np.nan\n",
    "\n",
    "    @xml_handle_element(\"title\")\n",
    "    def handle_title(self, node):\n",
    "        self.title = node.text\n",
    "\n",
    "    @xml_handle_element(\"created\")\n",
    "    def handle_created(self, node):\n",
    "        self.created = node.text\n",
    "\n",
    "    @xml_handle_element(\"updated\")\n",
    "    def handle_updated(self, node):\n",
    "        self.updated = node.text\n",
    "\n",
    "    @xml_handle_element(\"content\")\n",
    "    def handle_content(self, node):\n",
    "        soup = BeautifulSoup(node.text)\n",
    "        self.content = soup.text\n",
    "\n",
    "    @xml_handle_element(\"tag\")\n",
    "    def handle_tag(self, node):\n",
    "        self.tag = node.text\n",
    "\n",
    "    @xml_handle_element(\"note-attributes\")\n",
    "    def handle_attributes(self, node):\n",
    "        self.attributes = node.text\n",
    "\n"
   ]
  },
  {
   "cell_type": "code",
   "execution_count": 42,
   "metadata": {},
   "outputs": [
    {
     "name": "stdout",
     "output_type": "stream",
     "text": [
      "Undefined entity &nbsp;: line 13655620, column 6621\n"
     ]
    }
   ],
   "source": [
    "notes = []\n",
    "\n",
    "# with open(\"../../enex-files/Evernote.enex\", \"rb\") as f:\n",
    "#     for item in Parser(f).iter_from(Note):\n",
    "#         notes.append(item)\n",
    "\n",
    "folder = input(\"Enter relative path to folder containing enex-files:\")\n",
    "for file in os.listdir(folder):\n",
    "    with open(folder+file, \"rb\") as f:\n",
    "        try:\n",
    "            for item in Parser(f).iter_from(Note):\n",
    "                notes.append(item)\n",
    "        except Exception as e:\n",
    "            print(e)"
   ]
  },
  {
   "cell_type": "code",
   "execution_count": 43,
   "metadata": {},
   "outputs": [
    {
     "data": {
      "text/plain": [
       "6547"
      ]
     },
     "execution_count": 43,
     "metadata": {},
     "output_type": "execute_result"
    }
   ],
   "source": [
    "len(notes)"
   ]
  },
  {
   "cell_type": "code",
   "execution_count": 44,
   "metadata": {},
   "outputs": [
    {
     "data": {
      "text/plain": [
       "(6547, 6)"
      ]
     },
     "execution_count": 44,
     "metadata": {},
     "output_type": "execute_result"
    }
   ],
   "source": [
    "import numpy as np\n",
    "\n",
    "df = pd.DataFrame(notes)\n",
    "df[\"created\"] = pd.to_datetime(df.created)\n",
    "df[\"updated\"] = pd.to_datetime(df.updated)\n",
    "df.shape"
   ]
  },
  {
   "cell_type": "code",
   "execution_count": null,
   "metadata": {},
   "outputs": [],
   "source": [
    "df.head(3)"
   ]
  },
  {
   "cell_type": "code",
   "execution_count": 46,
   "metadata": {},
   "outputs": [
    {
     "data": {
      "text/plain": [
       "<BarContainer object of 9 artists>"
      ]
     },
     "execution_count": 46,
     "metadata": {},
     "output_type": "execute_result"
    },
    {
     "data": {
      "image/png": "[encoded data removed]",
      "text/plain": [
       "<Figure size 640x480 with 1 Axes>"
      ]
     },
     "metadata": {},
     "output_type": "display_data"
    }
   ],
   "source": [
    "tmp = df.created.dt.year.value_counts()\n",
    "plt.barh(tmp.index, tmp.values)"
   ]
  }
 ],
 "metadata": {
  "kernelspec": {
   "display_name": "base",
   "language": "python",
   "name": "python3"
  },
  "language_info": {
   "codemirror_mode": {
    "name": "ipython",
    "version": 3
   },
   "file_extension": ".py",
   "mimetype": "text/x-python",
   "name": "python",
   "nbconvert_exporter": "python",
   "pygments_lexer": "ipython3",
   "version": "3.9.1"
  },
  "orig_nbformat": 4
 },
 "nbformat": 4,
 "nbformat_minor": 2
}
