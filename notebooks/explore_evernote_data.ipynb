{
 "cells": [
  {
   "cell_type": "code",
   "execution_count": null,
   "id": "70523782",
   "metadata": {},
   "outputs": [],
   "source": [
    "import sqlite3, os\n",
    "import pandas as pd\n",
    "from datetime import date"
   ]
  },
  {
   "cell_type": "code",
   "execution_count": null,
   "id": "5694132f",
   "metadata": {},
   "outputs": [],
   "source": [
    "# connect to local evernote database\n",
    "# C:\\Users\\<user>\\Evernote\\Databases\n",
    "filename = input(\"Enter the path to the .exb database:\")\n",
    "\n",
    "conn = sqlite3.connect(filename)\n",
    "conn.row_factory = sqlite3.Row\n",
    "cursor = conn.cursor()\n",
    "\n",
    "tables = []\n",
    "\n",
    "for tablerow in ((cursor.execute(\"SELECT name FROM sqlite_master WHERE type='table'\")).fetchall()):\n",
    "    tables.append(tablerow[0])\n",
    "\n",
    "print(*tables)\n",
    "\n",
    "tags = (cursor.execute(\"SELECT * FROM tag_attr\")).fetchall()\n",
    "tags = pd.DataFrame(tags, columns=tags[0].keys())\n",
    "\n",
    "notes = (cursor.execute(\"SELECT * FROM note_attr\")).fetchall()\n",
    "notes = pd.DataFrame(notes, columns=notes[0].keys())\n",
    "\n",
    "cursor.close()"
   ]
  },
  {
   "cell_type": "code",
   "execution_count": null,
   "id": "42918217",
   "metadata": {},
   "outputs": [],
   "source": [
    "tags[\"note_count\"].describe().round(1)"
   ]
  },
  {
   "cell_type": "code",
   "execution_count": null,
   "id": "d5493585",
   "metadata": {},
   "outputs": [],
   "source": [
    "notes[\"size\"].describe().round(1)"
   ]
  },
  {
   "cell_type": "code",
   "execution_count": null,
   "id": "57340563",
   "metadata": {},
   "outputs": [],
   "source": [
    "notes[\"year_created\"] = [date.fromordinal(int(date_created)).year for date_created in notes[\"date_created\"]]"
   ]
  },
  {
   "cell_type": "code",
   "execution_count": null,
   "id": "f5fd36ab",
   "metadata": {},
   "outputs": [],
   "source": [
    "notes[\"year_created\"].value_counts().sort_index().plot()"
   ]
  },
  {
   "cell_type": "code",
   "execution_count": null,
   "id": "3b137328",
   "metadata": {},
   "outputs": [],
   "source": []
  }
 ],
 "metadata": {
  "kernelspec": {
   "display_name": "Python 3 (ipykernel)",
   "language": "python",
   "name": "python3"
  },
  "language_info": {
   "codemirror_mode": {
    "name": "ipython",
    "version": 3
   },
   "file_extension": ".py",
   "mimetype": "text/x-python",
   "name": "python",
   "nbconvert_exporter": "python",
   "pygments_lexer": "ipython3",
   "version": "3.9.1"
  }
 },
 "nbformat": 4,
 "nbformat_minor": 5
}
