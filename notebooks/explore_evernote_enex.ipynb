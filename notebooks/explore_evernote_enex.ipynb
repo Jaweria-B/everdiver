{
 "cells": [
  {
   "cell_type": "code",
   "execution_count": 1,
   "metadata": {},
   "outputs": [],
   "source": [
    "enex_file_path = input(\"Enter the relative path to the enex file:\")"
   ]
  },
  {
   "cell_type": "code",
   "execution_count": 2,
   "metadata": {},
   "outputs": [],
   "source": [
    "with open(enex_file_path) as infile:\n",
    "    enex = infile.read()"
   ]
  },
  {
   "cell_type": "code",
   "execution_count": 4,
   "metadata": {},
   "outputs": [],
   "source": [
    "from bs4 import BeautifulSoup\n",
    "\n",
    "soup = BeautifulSoup(enex)"
   ]
  },
  {
   "cell_type": "code",
   "execution_count": 26,
   "metadata": {},
   "outputs": [],
   "source": [
    "titles, created, updated, attributes, content = [], [], [], [], []\n",
    "\n",
    "for note in soup.find_all(\"note\"):\n",
    "    titles.append(note.title.text)\n",
    "    created.append(note.created.text)\n",
    "    updated.append(note.updated.text)\n",
    "    attributes.append(note.attributes)\n",
    "    content.append(note.content.text.strip())"
   ]
  },
  {
   "cell_type": "code",
   "execution_count": 27,
   "metadata": {},
   "outputs": [
    {
     "data": {
      "text/html": [
       "<div>\n",
       "<style scoped>\n",
       "    .dataframe tbody tr th:only-of-type {\n",
       "        vertical-align: middle;\n",
       "    }\n",
       "\n",
       "    .dataframe tbody tr th {\n",
       "        vertical-align: top;\n",
       "    }\n",
       "\n",
       "    .dataframe thead th {\n",
       "        text-align: right;\n",
       "    }\n",
       "</style>\n",
       "<table border=\"1\" class=\"dataframe\">\n",
       "  <thead>\n",
       "    <tr style=\"text-align: right;\">\n",
       "      <th></th>\n",
       "      <th>titles</th>\n",
       "      <th>created</th>\n",
       "      <th>updated</th>\n",
       "      <th>attributes</th>\n",
       "      <th>content</th>\n",
       "    </tr>\n",
       "  </thead>\n",
       "  <tbody>\n",
       "    <tr>\n",
       "      <th>0</th>\n",
       "      <td>Essay outline</td>\n",
       "      <td>20230921T155622Z</td>\n",
       "      <td>20230921T155637Z</td>\n",
       "      <td>None</td>\n",
       "      <td>Most analytical, interpretive, or persuasive e...</td>\n",
       "    </tr>\n",
       "    <tr>\n",
       "      <th>1</th>\n",
       "      <td>Lecture notes</td>\n",
       "      <td>20230921T155556Z</td>\n",
       "      <td>20230921T155614Z</td>\n",
       "      <td>None</td>\n",
       "      <td>Topic: Course: Date: Professor/Speaker: Questi...</td>\n",
       "    </tr>\n",
       "    <tr>\n",
       "      <th>2</th>\n",
       "      <td>Project plan</td>\n",
       "      <td>20230921T155537Z</td>\n",
       "      <td>20230921T155550Z</td>\n",
       "      <td>None</td>\n",
       "      <td>SummaryMajor MilestonesWeek 1MM/DD/YYWeek 2MM/...</td>\n",
       "    </tr>\n",
       "  </tbody>\n",
       "</table>\n",
       "</div>"
      ],
      "text/plain": [
       "          titles           created           updated attributes  \\\n",
       "0  Essay outline  20230921T155622Z  20230921T155637Z       None   \n",
       "1  Lecture notes  20230921T155556Z  20230921T155614Z       None   \n",
       "2   Project plan  20230921T155537Z  20230921T155550Z       None   \n",
       "\n",
       "                                             content  \n",
       "0  Most analytical, interpretive, or persuasive e...  \n",
       "1  Topic: Course: Date: Professor/Speaker: Questi...  \n",
       "2  SummaryMajor MilestonesWeek 1MM/DD/YYWeek 2MM/...  "
      ]
     },
     "execution_count": 27,
     "metadata": {},
     "output_type": "execute_result"
    }
   ],
   "source": [
    "import pandas as pd\n",
    "\n",
    "df = pd.DataFrame()\n",
    "df[\"titles\"] = titles\n",
    "df[\"created\"] = created\n",
    "df[\"updated\"] = updated\n",
    "df[\"attributes\"] = attributes\n",
    "df[\"content\"] = content\n",
    "\n",
    "df.head(3)"
   ]
  },
  {
   "cell_type": "code",
   "execution_count": 30,
   "metadata": {},
   "outputs": [],
   "source": [
    "outfile_path = input(\"Enter relative path for sql file:\")\n",
    "df.to_json(outfile_path)"
   ]
  }
 ],
 "metadata": {
  "kernelspec": {
   "display_name": "Python 3",
   "language": "python",
   "name": "python3"
  },
  "language_info": {
   "codemirror_mode": {
    "name": "ipython",
    "version": 3
   },
   "file_extension": ".py",
   "mimetype": "text/x-python",
   "name": "python",
   "nbconvert_exporter": "python",
   "pygments_lexer": "ipython3",
   "version": "3.10.12"
  },
  "orig_nbformat": 4
 },
 "nbformat": 4,
 "nbformat_minor": 2
}
