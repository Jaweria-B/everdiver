{
 "cells": [
  {
   "cell_type": "code",
   "execution_count": 2,
   "metadata": {},
   "outputs": [],
   "source": [
    "import os\n",
    "from bigxml import Parser, xml_handle_element, xml_handle_text\n",
    "from dataclasses import dataclass\n",
    "import pandas as pd\n",
    "import numpy as np\n",
    "from bs4 import BeautifulSoup\n",
    "import matplotlib.pyplot as plt"
   ]
  },
  {
   "cell_type": "markdown",
   "metadata": {},
   "source": [
    "# parse enex files"
   ]
  },
  {
   "cell_type": "code",
   "execution_count": 3,
   "metadata": {},
   "outputs": [],
   "source": [
    "@xml_handle_element(\"en-export\", \"note\")\n",
    "@dataclass\n",
    "class Note:\n",
    "    title: str = np.nan\n",
    "    created: str = np.nan\n",
    "    updated: str =np.nan\n",
    "    content: str = np.nan\n",
    "    tag: str = np.nan\n",
    "    attributes: str = np.nan\n",
    "\n",
    "    @xml_handle_element(\"title\")\n",
    "    def handle_title(self, node):\n",
    "        self.title = node.text\n",
    "\n",
    "    @xml_handle_element(\"created\")\n",
    "    def handle_created(self, node):\n",
    "        self.created = node.text\n",
    "\n",
    "    @xml_handle_element(\"updated\")\n",
    "    def handle_updated(self, node):\n",
    "        self.updated = node.text\n",
    "\n",
    "    @xml_handle_element(\"content\")\n",
    "    def handle_content(self, node):\n",
    "        soup = BeautifulSoup(node.text)\n",
    "        self.content = soup.text\n",
    "\n",
    "    @xml_handle_element(\"tag\")\n",
    "    def handle_tag(self, node):\n",
    "        self.tag = node.text\n",
    "\n",
    "    @xml_handle_element(\"note-attributes\")\n",
    "    def handle_attributes(self, node):\n",
    "        self.attributes = node.text\n",
    "\n"
   ]
  },
  {
   "cell_type": "code",
   "execution_count": 7,
   "metadata": {},
   "outputs": [],
   "source": [
    "notes = []\n",
    "\n",
    "# with open(\"../../enex-files/Evernote.enex\", \"rb\") as f:\n",
    "#     for item in Parser(f).iter_from(Note):\n",
    "#         notes.append(item)\n",
    "\n",
    "folder = input(\"Enter relative path to folder containing enex-files:\")\n",
    "for file in os.listdir(folder):\n",
    "    with open(folder+file, \"rb\") as f:\n",
    "        try:\n",
    "            for item in Parser(f).iter_from(Note):\n",
    "                notes.append(item)\n",
    "        except Exception as e:\n",
    "            print(e)"
   ]
  },
  {
   "cell_type": "code",
   "execution_count": 8,
   "metadata": {},
   "outputs": [
    {
     "data": {
      "text/plain": [
       "8"
      ]
     },
     "execution_count": 8,
     "metadata": {},
     "output_type": "execute_result"
    }
   ],
   "source": [
    "len(notes)"
   ]
  },
  {
   "cell_type": "code",
   "execution_count": 9,
   "metadata": {},
   "outputs": [
    {
     "data": {
      "text/plain": [
       "(8, 6)"
      ]
     },
     "execution_count": 9,
     "metadata": {},
     "output_type": "execute_result"
    }
   ],
   "source": [
    "import numpy as np\n",
    "\n",
    "df = pd.DataFrame(notes)\n",
    "df[\"created\"] = pd.to_datetime(df.created)\n",
    "df[\"updated\"] = pd.to_datetime(df.updated)\n",
    "df.shape"
   ]
  },
  {
   "cell_type": "code",
   "execution_count": 10,
   "metadata": {},
   "outputs": [
    {
     "data": {
      "text/html": [
       "<div>\n",
       "<style scoped>\n",
       "    .dataframe tbody tr th:only-of-type {\n",
       "        vertical-align: middle;\n",
       "    }\n",
       "\n",
       "    .dataframe tbody tr th {\n",
       "        vertical-align: top;\n",
       "    }\n",
       "\n",
       "    .dataframe thead th {\n",
       "        text-align: right;\n",
       "    }\n",
       "</style>\n",
       "<table border=\"1\" class=\"dataframe\">\n",
       "  <thead>\n",
       "    <tr style=\"text-align: right;\">\n",
       "      <th></th>\n",
       "      <th>title</th>\n",
       "      <th>created</th>\n",
       "      <th>updated</th>\n",
       "      <th>content</th>\n",
       "      <th>tag</th>\n",
       "      <th>attributes</th>\n",
       "    </tr>\n",
       "  </thead>\n",
       "  <tbody>\n",
       "    <tr>\n",
       "      <th>0</th>\n",
       "      <td>Daily Reflection</td>\n",
       "      <td>2023-09-21 15:26:36+00:00</td>\n",
       "      <td>2023-09-23 13:16:39+00:00</td>\n",
       "      <td>**Day 1: Arrival in Beijing***Reflection:*Toda...</td>\n",
       "      <td>NaN</td>\n",
       "      <td></td>\n",
       "    </tr>\n",
       "    <tr>\n",
       "      <th>1</th>\n",
       "      <td>Reading list</td>\n",
       "      <td>2023-09-21 15:54:18+00:00</td>\n",
       "      <td>2023-09-23 13:16:34+00:00</td>\n",
       "      <td>1. **\"The Call of the Wild\" by Jack London**  ...</td>\n",
       "      <td>NaN</td>\n",
       "      <td></td>\n",
       "    </tr>\n",
       "    <tr>\n",
       "      <th>2</th>\n",
       "      <td>To-do list</td>\n",
       "      <td>2023-09-21 15:53:52+00:00</td>\n",
       "      <td>2023-09-23 13:16:22+00:00</td>\n",
       "      <td>**Research and Preparation:**1. Research the Z...</td>\n",
       "      <td>NaN</td>\n",
       "      <td></td>\n",
       "    </tr>\n",
       "  </tbody>\n",
       "</table>\n",
       "</div>"
      ],
      "text/plain": [
       "              title                   created                   updated  \\\n",
       "0  Daily Reflection 2023-09-21 15:26:36+00:00 2023-09-23 13:16:39+00:00   \n",
       "1      Reading list 2023-09-21 15:54:18+00:00 2023-09-23 13:16:34+00:00   \n",
       "2        To-do list 2023-09-21 15:53:52+00:00 2023-09-23 13:16:22+00:00   \n",
       "\n",
       "                                             content  tag attributes  \n",
       "0  **Day 1: Arrival in Beijing***Reflection:*Toda...  NaN             \n",
       "1  1. **\"The Call of the Wild\" by Jack London**  ...  NaN             \n",
       "2  **Research and Preparation:**1. Research the Z...  NaN             "
      ]
     },
     "execution_count": 10,
     "metadata": {},
     "output_type": "execute_result"
    }
   ],
   "source": [
    "df.head(3)"
   ]
  },
  {
   "cell_type": "markdown",
   "metadata": {},
   "source": [
    "# prepare evernote data for langchain"
   ]
  },
  {
   "cell_type": "code",
   "execution_count": 13,
   "metadata": {},
   "outputs": [],
   "source": [
    "df.to_csv(folder+\"enex-parsed.csv\")"
   ]
  },
  {
   "cell_type": "code",
   "execution_count": 16,
   "metadata": {},
   "outputs": [
    {
     "data": {
      "text/plain": [
       "[Document(page_content=\": 0\\ntitle: Daily Reflection\\ncreated: 2023-09-21 15:26:36+00:00\\nupdated: 2023-09-23 13:16:39+00:00\\ncontent: **Day 1: Arrival in Beijing***Reflection:*Today marked the beginning of an incredible journey through China. The energy and vibrancy of Beijing were palpable as I explored Tiananmen Square and the Forbidden City. The sheer magnitude of history within those walls left me in awe. The contrast between the ancient architecture and the modernity of the cityscape was a testament to China's rich cultural tapestry.**Day 2: The Great Wall of China (Mutianyu)***Reflection:*Hiking along the Great Wall was a surreal experience. The panoramic views from Mutianyu were breathtaking, and I couldn't help but marvel at the engineering prowess of ancient China. The Wall's undulating path seemed to stretch on forever, reminding me of the enduring spirit that built this remarkable structure.**Day 3: Summer Palace and Temple of Heaven***Reflection:*Visiting the Summer Palace and Temple of Heaven provided a glimpse into the imperial era's grandeur and serenity. Strolling along Kunming Lake and witnessing the harmony of nature and architecture was a meditative experience. The Temple of Heaven's circular design and profound symbolism left me contemplating the spiritual connection woven into Chinese culture.**Day 4: Xi'an - Terracotta Army***Reflection:*Standing before the Terracotta Army, I was struck by the magnitude of this archaeological marvel. Each warrior a testament to an emperor's vision, preserved for millennia. The craftsmanship and attention to detail were astounding, reminding me of the profound artistry embedded in Chinese history.**Day 5: Xi'an - Ancient City Wall and Muslim Quarter***Reflection:*Biking along the Ancient City Wall gave me a sense of the city's evolution through time. The juxtaposition of modern life against this ancient fortification was fascinating. The vibrant hustle and bustle of the Muslim Quarter were a sensory delight, offering a taste of Xi'an's diverse cultural heritage.**Day 6: Guilin - Li River Cruise***Reflection:*The Li River cruise unveiled a surreal landscape straight from a Chinese painting. Karst peaks rising majestically from the water created an ethereal world. Each turn revealed a new vista, and I felt like I was floating through a dreamscape. Nature's artistry in Guilin is unparalleled.**Day 7: Yangshuo - Countryside Biking***Reflection:*Cycling through the idyllic countryside of Yangshuo offered a glimpse into rural Chinese life. Passing through quaint villages and lush rice paddies, I felt a deep connection to the land. The simplicity and warmth of the locals left an indelible impression on me.**Day 8: Chengdu - Chengdu Research Base of Giant Panda Breeding***Reflection:*Spending time with the giant pandas was a heartwarming experience. Their gentle demeanor and playful antics were a true testament to the importance of conservation efforts. Witnessing the dedicated work of the research base reinforced the critical role we play in preserving these incredible creatures.**Day 9: Chengdu - Sichuan Opera Face-Changing Show***Reflection:*The Sichuan Opera Face-Changing Show was a mesmerizing display of artistry and skill. The rapid transformations left me in awe, wondering at the years of dedication required to master such a unique form of performance. It was a vibrant and cultural highlight of my trip.**Day 10: Leshan - Giant Buddha***Reflection:*Standing at the feet of the Leshan Giant Buddha, I was humbled by the enormity of this ancient statue. Carved into the mountainside, it felt like a guardian watching over the confluence of three rivers. It was a fitting end to my journey, a reminder of China's ancient wisdom and enduring spirit.This China holiday has been a profound journey through history, culture, and natural wonders. Each place I visited left a lasting impression, and I depart with a deeper appreciation for China's rich heritage and the warmth of its people.\\ntag: \\nattributes: \", metadata={'source': '../data-assets/enex-parsed.csv', 'row': 0}),\n",
       " Document(page_content=': 1\\ntitle: Reading list\\ncreated: 2023-09-21 15:54:18+00:00\\nupdated: 2023-09-23 13:16:34+00:00\\ncontent: 1. **\"The Call of the Wild\" by Jack London**\\xa0  - *Description*: Set in the Klondike Gold Rush, this classic follows Buck, a domesticated dog forced into the harsh world of the Alaskan wilderness. It\\'s a story of survival, primal instincts, and the bond between humans and animals.2. **\"Into the Wild\" by Jon Krakauer**\\xa0  - *Description*: Based on a true story, this gripping narrative explores the journey of Chris McCandless, a young man who abandons his possessions and heads into the Alaskan wilderness. It\\'s a poignant reflection on the desire for adventure and the consequences of extreme self-discovery.3. **\"The Lost City of Z: A Tale of Deadly Obsession in the Amazon\" by David Grann**\\xa0  - *Description*: A non-fiction adventure, Grann chronicles the life of British explorer Percy Fawcett, who vanished in the Amazon in the 1920s while searching for a mythical city. It delves into the allure of the unexplored and the mysteries of the jungle.4. **\"Jurassic Park\" by Michael Crichton**\\xa0  - *Description*: In this thrilling science fiction adventure, a group of scientists and tourists find themselves stranded on a remote island populated by cloned dinosaurs. The struggle for survival against these ancient creatures creates a heart-pounding tale of adventure and suspense.5. **\"Treasure Island\" by Robert Louis Stevenson**\\xa0  - *Description*: This classic tale of high-seas adventure follows young Jim Hawkins as he embarks on a perilous journey in search of buried treasure. Along the way, he encounters pirates, mutiny, and a legendary one-legged seafarer, Long John Silver.6. **\"The Martian\" by Andy Weir**\\xa0  - *Description*: Stranded on Mars after a mission gone awry, astronaut Mark Watney must rely on his ingenuity and resourcefulness to survive until rescue is possible. It\\'s a gripping tale of human determination in the face of overwhelming odds.7. **\"The Revenant\" by Michael Punke**\\xa0  - *Description*: Based on the real-life story of frontiersman Hugh Glass, this novel chronicles his harrowing journey for survival after being mauled by a grizzly bear and left for dead by his companions. It\\'s a testament to the human spirit and the will to overcome adversity.8. **\"Mountains Beyond Mountains: The Quest of Dr. Paul Farmer, a Man Who Would Cure the World\" by Tracy Kidder**\\xa0  - *Description*: This non-fiction work recounts the extraordinary life of Dr. Paul Farmer, a physician and anthropologist dedicated to providing medical care to impoverished communities around the world. It\\'s an inspiring adventure in humanitarianism.9. **\"The Road\" by Cormac McCarthy**\\xa0  - *Description*: In a post-apocalyptic world, a father and son embark on a perilous journey across a desolate landscape in search of safety and survival. It\\'s a haunting yet profoundly moving adventure of the human spirit in the face of unimaginable hardship.10. **\"Endurance: Shackleton\\'s Incredible Voyage\" by Alfred Lansing**\\xa0  - *Description*: A gripping true story of the 1914 Antarctic expedition led by Sir Ernest Shackleton. After their ship, the Endurance, is trapped in ice, the crew faces extreme conditions, displaying unwavering determination and teamwork in their fight for survival.These adventure books offer a diverse range of experiences, from thrilling escapades in the wild to epic journeys of survival and self-discovery. Enjoy your reading adventures!\\ntag: \\nattributes: ', metadata={'source': '../data-assets/enex-parsed.csv', 'row': 1}),\n",
       " Document(page_content=\": 2\\ntitle: To-do list\\ncreated: 2023-09-21 15:53:52+00:00\\nupdated: 2023-09-23 13:16:22+00:00\\ncontent: **Research and Preparation:**1. Research the Zoo: Familiarize yourself with the specific zoo you are applying to, including its mission, values, exhibits, and conservation efforts.2. Understand the Role: Review the job description and qualifications to gain a clear understanding of the responsibilities and expectations.3. Study Relevant Experience: Highlight your relevant experience in zoo management, animal care, conservation, and staff leadership.**Resume and Cover Letter:**4. Update Resume: Tailor your resume to emphasize your qualifications, experiences, and achievements related to zoo management.5. Craft a Compelling Cover Letter: Write a personalized cover letter that addresses why you are interested in the position and how your skills align with the zoo's goals.**Professional References:**6. Compile a List: Prepare a list of professional references who can vouch for your expertise in zoo management, animal care, and leadership.**Portfolio or Work Samples:**7. Collect Relevant Materials: Gather any documents, reports, or presentations that showcase your experience in zoo management, conservation, and team leadership.**Certifications and Training:**8. Ensure Valid Certifications: Confirm that you hold any required certifications for zoo management, such as accreditation from industry organizations.**Highlight Conservation Efforts:**9. Document Conservation Initiatives: Provide evidence of any conservation programs or initiatives you have been involved with, demonstrating your commitment to wildlife preservation.**Prepare for Interview:**10. Anticipate Questions: Consider potential interview questions and prepare well-thought-out responses that highlight your strengths and experience.11. Research the Organization: Familiarize yourself with recent developments, initiatives, and challenges the zoo may be facing.**Demonstrate Leadership Skills:**12. Showcase Team Management: Detail your experience in leading and managing teams, including any specific accomplishments or improvements you achieved.13. Highlight Financial Management: Emphasize your ability to oversee budgets, allocate resources, and ensure financial sustainability.**Emphasize Public Relations and Community Engagement:**14. Discuss Outreach Efforts: Highlight any successful community engagement or educational programs you have implemented or been involved with.**Outline Animal Welfare and Care:**15. Highlight Experience with Animal Welfare: Describe your involvement in ensuring the highest standards of animal welfare, including enrichment and healthcare.**Demonstrate Crisis Management Abilities:**16. Share Relevant Experiences: Provide examples of how you have handled emergencies or crisis situations, demonstrating your ability to remain calm and effective under pressure.**Final Check:**17. Proofread Application Materials: Ensure that your resume, cover letter, and any supporting documents are error-free and professionally presented.By following this comprehensive to-do list, you'll be well-prepared to submit a strong application for the position of Zoo Director. Good luck!\\ntag: \\nattributes: \", metadata={'source': '../data-assets/enex-parsed.csv', 'row': 2})]"
      ]
     },
     "execution_count": 16,
     "metadata": {},
     "output_type": "execute_result"
    }
   ],
   "source": [
    "from langchain.document_loaders.csv_loader import CSVLoader\n",
    "\n",
    "loader = CSVLoader(file_path='../data-assets/enex-parsed.csv')\n",
    "documents = loader.load()\n",
    "documents[:3]"
   ]
  },
  {
   "cell_type": "markdown",
   "metadata": {},
   "source": [
    "# visualize note metadata"
   ]
  },
  {
   "cell_type": "code",
   "execution_count": null,
   "metadata": {},
   "outputs": [],
   "source": [
    "tmp = df.created.dt.year.value_counts()\n",
    "plt.barh(tmp.index, tmp.values)"
   ]
  }
 ],
 "metadata": {
  "kernelspec": {
   "display_name": "base",
   "language": "python",
   "name": "python3"
  },
  "language_info": {
   "codemirror_mode": {
    "name": "ipython",
    "version": 3
   },
   "file_extension": ".py",
   "mimetype": "text/x-python",
   "name": "python",
   "nbconvert_exporter": "python",
   "pygments_lexer": "ipython3",
   "version": "3.10.12"
  },
  "orig_nbformat": 4
 },
 "nbformat": 4,
 "nbformat_minor": 2
}
